{
  "nbformat": 4,
  "nbformat_minor": 0,
  "metadata": {
    "colab": {
      "provenance": [],
      "authorship_tag": "ABX9TyNIwwnsoKzBaZeVAznLG/bR",
      "include_colab_link": true
    },
    "kernelspec": {
      "name": "python3",
      "display_name": "Python 3"
    },
    "language_info": {
      "name": "python"
    }
  },
  "cells": [
    {
      "cell_type": "markdown",
      "metadata": {
        "id": "view-in-github",
        "colab_type": "text"
      },
      "source": [
        "<a href=\"https://colab.research.google.com/github/XinTian-1101/DataVisualization/blob/main/Data_Mining_Individual_Assigment.ipynb\" target=\"_parent\"><img src=\"https://colab.research.google.com/assets/colab-badge.svg\" alt=\"Open In Colab\"/></a>"
      ]
    },
    {
      "cell_type": "code",
      "execution_count": 25,
      "metadata": {
        "id": "wum6ATTp8icO"
      },
      "outputs": [],
      "source": [
        "import featuretools as ft\n",
        "from featuretools.primitives import AggregationPrimitive, TransformPrimitive\n",
        "import numpy as np\n",
        "import pandas as pd"
      ]
    },
    {
      "cell_type": "code",
      "source": [
        "orderData = {'OrderID': [301,302,303,304,305,306,307,308,309,310,311,312,313,314,315,316,317,318,319,320,321,322,323,324,325,326,327,328,329,330,331,332,333,334,335],\n",
        "             'CustomerID':[101,102,103,104,105,106,107,108,109,110,111,112,113,114,115,116,117,118,119,120,121,122,123,124,125,126,127,128,129,130,131,132,133,134,135],\n",
        "             'DateID':['2024-08-01','2024-08-05','2024-08-12','2024-08-15','2024-08-15','2024-08-20','2024-08-20','2024-09-01',\n",
        "                       '2024-09-01','2024-09-05','2024-09-10','2024-09-12','2024-09-15','2024-09-15','2024-09-20','2024-09-20','2024-09-20','2024-09-21',\n",
        "                       '2024-09-21','2024-09-25','2024-09-26','2024-09-27','2024-09-27','2024-09-28','2024-09-28','2024-09-29','2024-09-29','2024-09-30',\n",
        "                       '2024-09-30','2024-09-30','2024-10-02','2024-10-12','2024-10-24','2024-10-27','2024-10-30',],\n",
        "            'ShipDate': ['2024-08-01', '2024-08-06', '2024-08-14', '2024-08-16', '2024-08-18', '2024-08-21', '2024-08-22', '2024-09-02',\n",
        "                         '2024-09-03', '2024-09-05', '2024-09-11', '2024-09-13', '2024-09-16', '2024-09-18', '2024-09-21', '2024-09-22', '2024-09-23', '2024-09-21',\n",
        "                         '2024-09-21', '2024-09-26', '2024-09-27', '2024-09-28', '2024-09-29', '2024-09-30', '2024-10-01', '2024-10-02', '2024-10-03', '2024-10-01',\n",
        "                         '2024-10-02', '2024-10-04', '2024-10-03',  '2024-10-13', '2024-10-25', '2024-10-28', '2024-11-02'] }"
      ],
      "metadata": {
        "id": "HoM7pkSemySS"
      },
      "execution_count": 26,
      "outputs": []
    },
    {
      "cell_type": "code",
      "source": [
        "orderDetailsData = {'OrderID': [301,302,303,304,305,306,307,308,309,310,311,312,313,314,315,316,317,318,319,320,321,322,323,324,325,326,327,328,329,330,331,332,333,334,335],\n",
        "                    'ProductID': [202, 202, 203, 202, 201, 202, 203, 204, 202, 201,\n",
        "                                  202, 201, 204, 201, 202, 203, 202, 201, 203, 201,\n",
        "                                  202, 202, 203, 202, 204, 201, 202, 203, 202, 202,\n",
        "                                  201, 203, 202, 201, 202],\n",
        "\n",
        "                    'Quantity': [1, 2, 1, 1, 2, 1, 2, 1, 2, 1,\n",
        "                                 1, 2, 1, 2, 1, 1, 1, 2, 2, 1,\n",
        "                                 2, 1, 1, 1, 2, 2, 1, 2, 1, 2,\n",
        "                                 1, 1, 2, 1, 1],\n",
        "\n",
        "                    'Discount': [0.1, 0.1, 0, 0.1, 0, 0.1, 0, 0.05, 0.1, 0,\n",
        "                                 0.1, 0, 0.05, 0, 0.1, 0, 0.1, 0, 0, 0,\n",
        "                                 0.1, 0.1, 0, 0.1, 0.05, 0, 0.1, 0, 0.1, 0.1,\n",
        "                                 0, 0, 0.1, 0, 0.1]}"
      ],
      "metadata": {
        "id": "_ZYBDgc6pR92"
      },
      "execution_count": 27,
      "outputs": []
    },
    {
      "cell_type": "code",
      "source": [
        "productData = {'ProductID':[201,202,203,204],\n",
        "               'Name': ['Laptop', 'Tablet', 'Smartphone','Gaming Chair'],\n",
        "               'Category': ['Electronics', 'Electronics', 'Electronics','Home'],\n",
        "               'Price': [3600, 2900, 3450, 750]}"
      ],
      "metadata": {
        "id": "aVN923Hnk9Sq"
      },
      "execution_count": 28,
      "outputs": []
    },
    {
      "cell_type": "code",
      "source": [
        "customerData = {'CustomerID':[101,102,103,104,105,106,107,108,109,110,111,112,113,114,115,116,117,118,119,120,121,122,123,124,125,126,127,128,129,130,131,132,133,134,135],\n",
        "               'Name': ['John Doe', 'Jane Smith', 'Mike Jordan', 'Razak bin Osman', 'Lee Sioh Ling', 'Sophia Young Mei Ling', 'Tan Mei Ling','Ahmad Firdaus', 'Anthony Lim Cheng Wan', 'Teoh Zhu Hang',\n",
        "                        'Jack Tan', 'Muhammad Ali', 'Nur Aisyah', 'Siti Nur Fatini', 'Heng Xuao Xin', 'Sharon Tan', 'Li Wei', 'Arun Kumar', 'Siti Khadijah', 'Rachel Tan',\n",
        "                        'Kavitha Nair', 'Lim Wei Jie', 'Chong Li Mei', 'Farid Ismail', 'Amir Hamzah', 'Chua Kah Leong', 'Ng Wei Yuen', 'Subramaniam Rajan', 'Jasvinder Kaur', 'Tan Jia Min',\n",
        "                        'Lee Wei Jun', 'Ravi Kumar', 'Zhang Wei', 'Wu Hui Fang', 'Shanti Devi'],\n",
        "\n",
        "              'Email': ['john.doe@example.com', 'jane.smith@example.com', 'mike.jordan@example.com', 'razak556n@example.com', 'sioh_Ling665h@example.com',\n",
        "                        'sophia.young@example.com', 'tan.meiling@example.com', 'ahmad.firdaus@example.com', 'anthony@example.com', 'teohzhuhang@example.com',\n",
        "                        'jackTan@example.com', 'muhammadAli7789@example.com', 'aaaaaisyahy@example.com', 'fatini66_54@example.com', 'heng@example.com',\n",
        "                        'sharonTan@example.com', 'li.wei@example.com', 'arun.kumar@example.com', 'siti.khadijah@example.com', 'rachel.tan@example.com',\n",
        "                        'kavitha.nair@example.com', 'lim.weijie@example.com', 'chong.limei@example.com', 'farid.ismail@example.com', 'amir.hamzah@example.com',\n",
        "                        'chua.kahleong@example.com', 'ng.weiyuen@example.com', 'subramaniam.rajan@example.com', 'jasvinder.kaur@example.com', 'tan.jiamin@example.com',\n",
        "                        'lee.weijun@example.com', 'ravi.kumar@example.com', 'zhang.wei@example.com', 'wu.huifang@example.com', 'shanti.devi@example.com'],\n",
        "\n",
        "\n",
        "            'SignupDate': ['2024-01-10', '2024-02-05', '2024-02-10', '2024-03-12', '2024-04-20', '2024-05-25', '2024-06-25', '2024-07-15', '2024-07-25', '2024-08-01',\n",
        "                           '2024-08-05', '2024-08-15', '2024-09-01', '2024-09-02', '2024-09-05', '2024-09-09', '2024-09-10', '2024-09-15', '2024-09-17', '2024-09-17',\n",
        "                           '2024-09-19', '2024-09-19', '2024-09-20', '2024-09-21', '2024-09-22', '2024-09-24', '2024-09-25', '2024-09-28', '2024-9-30', '2024-09-30',\n",
        "                           '2024-10-01', '2024-10-08','2024-10-12', '2024-10-24','2024-10-28'],\n",
        "\n",
        "            'Income': [2500, 6000, 1500, 6600, 5800, 3100, 7500, 2400, 7500, 8300, 6900, 4200, 2700, 3800, 3000, 8400, 7200, 2800, 4700,\n",
        "                      6800, 2900, 6600, 7000, 2600, 2900, 3200, 6700, 4800, 5000, 7500, 8000, 9500, 6800, 5600, 6600] }"
      ],
      "metadata": {
        "id": "Kbo46efxUdPL"
      },
      "execution_count": 29,
      "outputs": []
    },
    {
      "cell_type": "code",
      "source": [
        "customer_df = pd.DataFrame(customerData)\n",
        "product_df = pd.DataFrame(productData)\n",
        "order_df = pd.DataFrame(orderData)\n",
        "order_details_df = pd.DataFrame(orderDetailsData)"
      ],
      "metadata": {
        "id": "xnwXAKOmpu1l"
      },
      "execution_count": 30,
      "outputs": []
    },
    {
      "cell_type": "code",
      "source": [
        "#Initiaze Entity Set\n",
        "es = ft.EntitySet(id = 'ecommerce_dataset')"
      ],
      "metadata": {
        "id": "5K6_OCFHpzjm"
      },
      "execution_count": 31,
      "outputs": []
    },
    {
      "cell_type": "code",
      "source": [
        "# Create Empty Entity Set\n",
        "\n",
        "#ORDERS\n",
        "orders_entity = es.add_dataframe(\n",
        "    dataframe_name = 'Orders',\n",
        "    dataframe = order_df,\n",
        "    index = 'OrderID',\n",
        "    time_index='DateID')\n",
        "\n",
        "#ORDER DETAILS\n",
        "order_details_entity = es.add_dataframe(\n",
        "    dataframe_name = 'OrderDetails',\n",
        "    dataframe = order_details_df,\n",
        "    make_index=True,\n",
        "    index = 'OrderDetailID')\n",
        "\n",
        "#PRODUCTS\n",
        "products_entity = es.add_dataframe(\n",
        "    dataframe_name = 'Products',\n",
        "    dataframe = product_df,\n",
        "    index = 'ProductID')\n",
        "\n",
        "#CUSTOMER\n",
        "customers_entity = es.add_dataframe(\n",
        "    dataframe_name=\"Customers\",\n",
        "    dataframe=customer_df,\n",
        "    index=\"CustomerID\",\n",
        "    time_index=\"SignupDate\"\n",
        ")"
      ],
      "metadata": {
        "colab": {
          "base_uri": "https://localhost:8080/"
        },
        "id": "uqpHW7OYpzfa",
        "outputId": "4299456a-8714-4f52-f57b-bd8a5b65fdb8"
      },
      "execution_count": 32,
      "outputs": [
        {
          "output_type": "stream",
          "name": "stderr",
          "text": [
            "/usr/local/lib/python3.10/dist-packages/woodwork/type_sys/utils.py:33: UserWarning: Could not infer format, so each element will be parsed individually, falling back to `dateutil`. To ensure parsing is consistent and as-expected, please specify a format.\n",
            "  pd.to_datetime(\n",
            "/usr/local/lib/python3.10/dist-packages/woodwork/type_sys/utils.py:33: UserWarning: Could not infer format, so each element will be parsed individually, falling back to `dateutil`. To ensure parsing is consistent and as-expected, please specify a format.\n",
            "  pd.to_datetime(\n",
            "/usr/local/lib/python3.10/dist-packages/woodwork/type_sys/utils.py:33: UserWarning: Could not infer format, so each element will be parsed individually, falling back to `dateutil`. To ensure parsing is consistent and as-expected, please specify a format.\n",
            "  pd.to_datetime(\n",
            "/usr/local/lib/python3.10/dist-packages/woodwork/type_sys/utils.py:33: UserWarning: Could not infer format, so each element will be parsed individually, falling back to `dateutil`. To ensure parsing is consistent and as-expected, please specify a format.\n",
            "  pd.to_datetime(\n",
            "/usr/local/lib/python3.10/dist-packages/woodwork/type_sys/utils.py:33: UserWarning: Could not infer format, so each element will be parsed individually, falling back to `dateutil`. To ensure parsing is consistent and as-expected, please specify a format.\n",
            "  pd.to_datetime(\n",
            "/usr/local/lib/python3.10/dist-packages/woodwork/type_sys/utils.py:33: UserWarning: Could not infer format, so each element will be parsed individually, falling back to `dateutil`. To ensure parsing is consistent and as-expected, please specify a format.\n",
            "  pd.to_datetime(\n",
            "/usr/local/lib/python3.10/dist-packages/woodwork/type_sys/utils.py:33: UserWarning: Could not infer format, so each element will be parsed individually, falling back to `dateutil`. To ensure parsing is consistent and as-expected, please specify a format.\n",
            "  pd.to_datetime(\n",
            "/usr/local/lib/python3.10/dist-packages/woodwork/type_sys/utils.py:33: UserWarning: Could not infer format, so each element will be parsed individually, falling back to `dateutil`. To ensure parsing is consistent and as-expected, please specify a format.\n",
            "  pd.to_datetime(\n"
          ]
        }
      ]
    },
    {
      "cell_type": "code",
      "source": [
        "# Define Relationships\n",
        "customer_order_relationship = es.add_relationship(\n",
        "    parent_dataframe_name=\"Customers\",\n",
        "    parent_column_name=\"CustomerID\",\n",
        "    child_dataframe_name=\"Orders\",\n",
        "    child_column_name=\"CustomerID\"\n",
        ")\n",
        "\n",
        "order_orderdetails_relationship = es.add_relationship(\n",
        "    parent_dataframe_name=\"Orders\",\n",
        "    parent_column_name=\"OrderID\",\n",
        "    child_dataframe_name=\"OrderDetails\",\n",
        "    child_column_name=\"OrderID\"\n",
        ")\n",
        "\n",
        "product_orderdetails_relationship = es.add_relationship(\n",
        "    parent_dataframe_name=\"Products\",\n",
        "    parent_column_name=\"ProductID\",\n",
        "    child_dataframe_name=\"OrderDetails\",\n",
        "    child_column_name=\"ProductID\"\n",
        ")"
      ],
      "metadata": {
        "id": "fZQZK8SDvr82"
      },
      "execution_count": 33,
      "outputs": []
    },
    {
      "cell_type": "code",
      "source": [
        "# PRINT THE ENTITYSET\n",
        "print(es)"
      ],
      "metadata": {
        "colab": {
          "base_uri": "https://localhost:8080/"
        },
        "id": "S2vkUqqypza-",
        "outputId": "f4fa814b-a799-4cd1-b588-c054fce2b5b4"
      },
      "execution_count": 34,
      "outputs": [
        {
          "output_type": "stream",
          "name": "stdout",
          "text": [
            "Entityset: ecommerce_dataset\n",
            "  DataFrames:\n",
            "    Orders [Rows: 35, Columns: 4]\n",
            "    OrderDetails [Rows: 35, Columns: 5]\n",
            "    Products [Rows: 4, Columns: 4]\n",
            "    Customers [Rows: 35, Columns: 5]\n",
            "  Relationships:\n",
            "    Orders.CustomerID -> Customers.CustomerID\n",
            "    OrderDetails.OrderID -> Orders.OrderID\n",
            "    OrderDetails.ProductID -> Products.ProductID\n"
          ]
        }
      ]
    },
    {
      "cell_type": "code",
      "source": [
        "pd.set_option('display.max_columns', None)\n",
        "pd.set_option('display.max_rows', None)"
      ],
      "metadata": {
        "id": "IXnD89EDpzYy"
      },
      "execution_count": 35,
      "outputs": []
    },
    {
      "cell_type": "code",
      "source": [
        "# Generate Features\n",
        "feature_matrix, feature_defs = ft.dfs(\n",
        "    entityset=es,\n",
        "    target_dataframe_name='Orders',\n",
        "    agg_primitives=[\"sum\", \"mean\", \"count\"],\n",
        "    trans_primitives=[\"month\", \"year\"]\n",
        ")"
      ],
      "metadata": {
        "colab": {
          "base_uri": "https://localhost:8080/"
        },
        "id": "qe4hjt6upzWc",
        "outputId": "ed0bc65e-b7ec-4d3f-8860-b4bd55a80ee7"
      },
      "execution_count": 36,
      "outputs": [
        {
          "output_type": "stream",
          "name": "stderr",
          "text": [
            "/usr/local/lib/python3.10/dist-packages/featuretools/computational_backends/feature_set_calculator.py:785: FutureWarning: The provided callable <function sum at 0x7a53755f80d0> is currently using SeriesGroupBy.sum. In a future version of pandas, the provided callable will be used directly. To keep current behavior pass the string \"sum\" instead.\n",
            "  ).agg(to_agg)\n",
            "/usr/local/lib/python3.10/dist-packages/featuretools/computational_backends/feature_set_calculator.py:785: FutureWarning: The provided callable <function mean at 0x7a53755f9000> is currently using SeriesGroupBy.mean. In a future version of pandas, the provided callable will be used directly. To keep current behavior pass the string \"mean\" instead.\n",
            "  ).agg(to_agg)\n",
            "/usr/local/lib/python3.10/dist-packages/featuretools/computational_backends/feature_set_calculator.py:785: FutureWarning: The provided callable <function sum at 0x7a53755f80d0> is currently using SeriesGroupBy.sum. In a future version of pandas, the provided callable will be used directly. To keep current behavior pass the string \"sum\" instead.\n",
            "  ).agg(to_agg)\n",
            "/usr/local/lib/python3.10/dist-packages/featuretools/computational_backends/feature_set_calculator.py:785: FutureWarning: The provided callable <function mean at 0x7a53755f9000> is currently using SeriesGroupBy.mean. In a future version of pandas, the provided callable will be used directly. To keep current behavior pass the string \"mean\" instead.\n",
            "  ).agg(to_agg)\n"
          ]
        }
      ]
    },
    {
      "cell_type": "code",
      "source": [
        "# Feature synthesis with custom primitives\n",
        "derived_features, feature_names = ft.dfs(\n",
        "    entityset=es,\n",
        "    target_dataframe_name=\"Orders\",\n",
        "    agg_primitives=[\"sum\", \"count\", \"mean\"],\n",
        "    trans_primitives=[],\n",
        "    max_depth=2,\n",
        "    features_only=False\n",
        ")"
      ],
      "metadata": {
        "colab": {
          "base_uri": "https://localhost:8080/"
        },
        "id": "q4pghKtRB4RR",
        "outputId": "34a1fd37-df18-4b63-f8a3-7f7bd1cb7d51"
      },
      "execution_count": 37,
      "outputs": [
        {
          "output_type": "stream",
          "name": "stderr",
          "text": [
            "/usr/local/lib/python3.10/dist-packages/featuretools/computational_backends/feature_set_calculator.py:785: FutureWarning: The provided callable <function sum at 0x7a53755f80d0> is currently using SeriesGroupBy.sum. In a future version of pandas, the provided callable will be used directly. To keep current behavior pass the string \"sum\" instead.\n",
            "  ).agg(to_agg)\n",
            "/usr/local/lib/python3.10/dist-packages/featuretools/computational_backends/feature_set_calculator.py:785: FutureWarning: The provided callable <function mean at 0x7a53755f9000> is currently using SeriesGroupBy.mean. In a future version of pandas, the provided callable will be used directly. To keep current behavior pass the string \"mean\" instead.\n",
            "  ).agg(to_agg)\n",
            "/usr/local/lib/python3.10/dist-packages/featuretools/computational_backends/feature_set_calculator.py:785: FutureWarning: The provided callable <function sum at 0x7a53755f80d0> is currently using SeriesGroupBy.sum. In a future version of pandas, the provided callable will be used directly. To keep current behavior pass the string \"sum\" instead.\n",
            "  ).agg(to_agg)\n",
            "/usr/local/lib/python3.10/dist-packages/featuretools/computational_backends/feature_set_calculator.py:785: FutureWarning: The provided callable <function mean at 0x7a53755f9000> is currently using SeriesGroupBy.mean. In a future version of pandas, the provided callable will be used directly. To keep current behavior pass the string \"mean\" instead.\n",
            "  ).agg(to_agg)\n"
          ]
        }
      ]
    },
    {
      "cell_type": "code",
      "source": [
        "clv = derived_features[\"Total Revenue\"] / derived_features[\"Total Customers\"]\n",
        "apf = derived_features[\"Total Orders\"] / derived_features[\"Total Customers\"]"
      ],
      "metadata": {
        "colab": {
          "base_uri": "https://localhost:8080/",
          "height": 616
        },
        "id": "L3fSk8DvCHVL",
        "outputId": "53c18d4c-13d6-4e87-8bbf-43d4f406af65"
      },
      "execution_count": 38,
      "outputs": [
        {
          "output_type": "error",
          "ename": "KeyError",
          "evalue": "'Total Revenue'",
          "traceback": [
            "\u001b[0;31m---------------------------------------------------------------------------\u001b[0m",
            "\u001b[0;31mKeyError\u001b[0m                                  Traceback (most recent call last)",
            "\u001b[0;32m/usr/local/lib/python3.10/dist-packages/pandas/core/indexes/base.py\u001b[0m in \u001b[0;36mget_loc\u001b[0;34m(self, key)\u001b[0m\n\u001b[1;32m   3804\u001b[0m         \u001b[0;32mtry\u001b[0m\u001b[0;34m:\u001b[0m\u001b[0;34m\u001b[0m\u001b[0;34m\u001b[0m\u001b[0m\n\u001b[0;32m-> 3805\u001b[0;31m             \u001b[0;32mreturn\u001b[0m \u001b[0mself\u001b[0m\u001b[0;34m.\u001b[0m\u001b[0m_engine\u001b[0m\u001b[0;34m.\u001b[0m\u001b[0mget_loc\u001b[0m\u001b[0;34m(\u001b[0m\u001b[0mcasted_key\u001b[0m\u001b[0;34m)\u001b[0m\u001b[0;34m\u001b[0m\u001b[0;34m\u001b[0m\u001b[0m\n\u001b[0m\u001b[1;32m   3806\u001b[0m         \u001b[0;32mexcept\u001b[0m \u001b[0mKeyError\u001b[0m \u001b[0;32mas\u001b[0m \u001b[0merr\u001b[0m\u001b[0;34m:\u001b[0m\u001b[0;34m\u001b[0m\u001b[0;34m\u001b[0m\u001b[0m\n",
            "\u001b[0;32mindex.pyx\u001b[0m in \u001b[0;36mpandas._libs.index.IndexEngine.get_loc\u001b[0;34m()\u001b[0m\n",
            "\u001b[0;32mindex.pyx\u001b[0m in \u001b[0;36mpandas._libs.index.IndexEngine.get_loc\u001b[0;34m()\u001b[0m\n",
            "\u001b[0;32mpandas/_libs/hashtable_class_helper.pxi\u001b[0m in \u001b[0;36mpandas._libs.hashtable.PyObjectHashTable.get_item\u001b[0;34m()\u001b[0m\n",
            "\u001b[0;32mpandas/_libs/hashtable_class_helper.pxi\u001b[0m in \u001b[0;36mpandas._libs.hashtable.PyObjectHashTable.get_item\u001b[0;34m()\u001b[0m\n",
            "\u001b[0;31mKeyError\u001b[0m: 'Total Revenue'",
            "\nThe above exception was the direct cause of the following exception:\n",
            "\u001b[0;31mKeyError\u001b[0m                                  Traceback (most recent call last)",
            "\u001b[0;32m<ipython-input-38-dee4c5246178>\u001b[0m in \u001b[0;36m<cell line: 1>\u001b[0;34m()\u001b[0m\n\u001b[0;32m----> 1\u001b[0;31m \u001b[0mclv\u001b[0m \u001b[0;34m=\u001b[0m \u001b[0mderived_features\u001b[0m\u001b[0;34m[\u001b[0m\u001b[0;34m\"Total Revenue\"\u001b[0m\u001b[0;34m]\u001b[0m \u001b[0;34m/\u001b[0m \u001b[0mderived_features\u001b[0m\u001b[0;34m[\u001b[0m\u001b[0;34m\"Total Customers\"\u001b[0m\u001b[0;34m]\u001b[0m\u001b[0;34m\u001b[0m\u001b[0;34m\u001b[0m\u001b[0m\n\u001b[0m\u001b[1;32m      2\u001b[0m \u001b[0mapf\u001b[0m \u001b[0;34m=\u001b[0m \u001b[0mderived_features\u001b[0m\u001b[0;34m[\u001b[0m\u001b[0;34m\"Total Orders\"\u001b[0m\u001b[0;34m]\u001b[0m \u001b[0;34m/\u001b[0m \u001b[0mderived_features\u001b[0m\u001b[0;34m[\u001b[0m\u001b[0;34m\"Total Customers\"\u001b[0m\u001b[0;34m]\u001b[0m\u001b[0;34m\u001b[0m\u001b[0;34m\u001b[0m\u001b[0m\n",
            "\u001b[0;32m/usr/local/lib/python3.10/dist-packages/pandas/core/frame.py\u001b[0m in \u001b[0;36m__getitem__\u001b[0;34m(self, key)\u001b[0m\n\u001b[1;32m   4100\u001b[0m             \u001b[0;32mif\u001b[0m \u001b[0mself\u001b[0m\u001b[0;34m.\u001b[0m\u001b[0mcolumns\u001b[0m\u001b[0;34m.\u001b[0m\u001b[0mnlevels\u001b[0m \u001b[0;34m>\u001b[0m \u001b[0;36m1\u001b[0m\u001b[0;34m:\u001b[0m\u001b[0;34m\u001b[0m\u001b[0;34m\u001b[0m\u001b[0m\n\u001b[1;32m   4101\u001b[0m                 \u001b[0;32mreturn\u001b[0m \u001b[0mself\u001b[0m\u001b[0;34m.\u001b[0m\u001b[0m_getitem_multilevel\u001b[0m\u001b[0;34m(\u001b[0m\u001b[0mkey\u001b[0m\u001b[0;34m)\u001b[0m\u001b[0;34m\u001b[0m\u001b[0;34m\u001b[0m\u001b[0m\n\u001b[0;32m-> 4102\u001b[0;31m             \u001b[0mindexer\u001b[0m \u001b[0;34m=\u001b[0m \u001b[0mself\u001b[0m\u001b[0;34m.\u001b[0m\u001b[0mcolumns\u001b[0m\u001b[0;34m.\u001b[0m\u001b[0mget_loc\u001b[0m\u001b[0;34m(\u001b[0m\u001b[0mkey\u001b[0m\u001b[0;34m)\u001b[0m\u001b[0;34m\u001b[0m\u001b[0;34m\u001b[0m\u001b[0m\n\u001b[0m\u001b[1;32m   4103\u001b[0m             \u001b[0;32mif\u001b[0m \u001b[0mis_integer\u001b[0m\u001b[0;34m(\u001b[0m\u001b[0mindexer\u001b[0m\u001b[0;34m)\u001b[0m\u001b[0;34m:\u001b[0m\u001b[0;34m\u001b[0m\u001b[0;34m\u001b[0m\u001b[0m\n\u001b[1;32m   4104\u001b[0m                 \u001b[0mindexer\u001b[0m \u001b[0;34m=\u001b[0m \u001b[0;34m[\u001b[0m\u001b[0mindexer\u001b[0m\u001b[0;34m]\u001b[0m\u001b[0;34m\u001b[0m\u001b[0;34m\u001b[0m\u001b[0m\n",
            "\u001b[0;32m/usr/local/lib/python3.10/dist-packages/pandas/core/indexes/base.py\u001b[0m in \u001b[0;36mget_loc\u001b[0;34m(self, key)\u001b[0m\n\u001b[1;32m   3810\u001b[0m             ):\n\u001b[1;32m   3811\u001b[0m                 \u001b[0;32mraise\u001b[0m \u001b[0mInvalidIndexError\u001b[0m\u001b[0;34m(\u001b[0m\u001b[0mkey\u001b[0m\u001b[0;34m)\u001b[0m\u001b[0;34m\u001b[0m\u001b[0;34m\u001b[0m\u001b[0m\n\u001b[0;32m-> 3812\u001b[0;31m             \u001b[0;32mraise\u001b[0m \u001b[0mKeyError\u001b[0m\u001b[0;34m(\u001b[0m\u001b[0mkey\u001b[0m\u001b[0;34m)\u001b[0m \u001b[0;32mfrom\u001b[0m \u001b[0merr\u001b[0m\u001b[0;34m\u001b[0m\u001b[0;34m\u001b[0m\u001b[0m\n\u001b[0m\u001b[1;32m   3813\u001b[0m         \u001b[0;32mexcept\u001b[0m \u001b[0mTypeError\u001b[0m\u001b[0;34m:\u001b[0m\u001b[0;34m\u001b[0m\u001b[0;34m\u001b[0m\u001b[0m\n\u001b[1;32m   3814\u001b[0m             \u001b[0;31m# If we have a listlike key, _check_indexing_error will raise\u001b[0m\u001b[0;34m\u001b[0m\u001b[0;34m\u001b[0m\u001b[0m\n",
            "\u001b[0;31mKeyError\u001b[0m: 'Total Revenue'"
          ]
        }
      ]
    },
    {
      "cell_type": "code",
      "source": [
        "derived_features[\"Customer Lifetime Value (CLV)\"] = clv\n",
        "derived_features[\"Average Purchase Frequency (APF)\"] = apf"
      ],
      "metadata": {
        "id": "HHGEQvXaCKmo"
      },
      "execution_count": null,
      "outputs": []
    },
    {
      "cell_type": "code",
      "source": [
        "print(feature_matrix)"
      ],
      "metadata": {
        "id": "wt82jxHNpzT6"
      },
      "execution_count": null,
      "outputs": []
    },
    {
      "cell_type": "code",
      "source": [],
      "metadata": {
        "id": "dAAJCZNSpzRv"
      },
      "execution_count": null,
      "outputs": []
    },
    {
      "cell_type": "code",
      "source": [],
      "metadata": {
        "id": "0ZDrkCfgpzPl"
      },
      "execution_count": null,
      "outputs": []
    },
    {
      "cell_type": "code",
      "source": [],
      "metadata": {
        "id": "A7BI_tb0pzNE"
      },
      "execution_count": null,
      "outputs": []
    },
    {
      "cell_type": "code",
      "source": [],
      "metadata": {
        "id": "3QduNnvRpzJ8"
      },
      "execution_count": null,
      "outputs": []
    },
    {
      "cell_type": "code",
      "source": [],
      "metadata": {
        "id": "oEry2-tIpzD9"
      },
      "execution_count": null,
      "outputs": []
    }
  ]
}